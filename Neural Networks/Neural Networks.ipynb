{
 "cells": [
  {
   "cell_type": "markdown",
   "metadata": {},
   "source": [
    "# Neural Networks\n",
    "\n",
    "The purpose of this notebook is to implement a simple neural network for digits recognition with a usage of MNIST dataset. We will apply the backpropagation algorithm and then we will try to improve the performance of our network by using regularization."
   ]
  },
  {
   "cell_type": "code",
   "execution_count": 1,
   "metadata": {},
   "outputs": [],
   "source": [
    "import os\n",
    "import random\n",
    "import numpy as np\n",
    "import pandas as pd\n",
    "import matplotlib.pyplot as plt"
   ]
  },
  {
   "cell_type": "code",
   "execution_count": 2,
   "metadata": {},
   "outputs": [
    {
     "data": {
      "text/html": [
       "<div>\n",
       "<style scoped>\n",
       "    .dataframe tbody tr th:only-of-type {\n",
       "        vertical-align: middle;\n",
       "    }\n",
       "\n",
       "    .dataframe tbody tr th {\n",
       "        vertical-align: top;\n",
       "    }\n",
       "\n",
       "    .dataframe thead th {\n",
       "        text-align: right;\n",
       "    }\n",
       "</style>\n",
       "<table border=\"1\" class=\"dataframe\">\n",
       "  <thead>\n",
       "    <tr style=\"text-align: right;\">\n",
       "      <th></th>\n",
       "      <th>label</th>\n",
       "      <th>1x1</th>\n",
       "      <th>1x2</th>\n",
       "      <th>1x3</th>\n",
       "      <th>1x4</th>\n",
       "      <th>1x5</th>\n",
       "      <th>1x6</th>\n",
       "      <th>1x7</th>\n",
       "      <th>1x8</th>\n",
       "      <th>1x9</th>\n",
       "      <th>...</th>\n",
       "      <th>28x19</th>\n",
       "      <th>28x20</th>\n",
       "      <th>28x21</th>\n",
       "      <th>28x22</th>\n",
       "      <th>28x23</th>\n",
       "      <th>28x24</th>\n",
       "      <th>28x25</th>\n",
       "      <th>28x26</th>\n",
       "      <th>28x27</th>\n",
       "      <th>28x28</th>\n",
       "    </tr>\n",
       "  </thead>\n",
       "  <tbody>\n",
       "    <tr>\n",
       "      <th>0</th>\n",
       "      <td>5</td>\n",
       "      <td>0</td>\n",
       "      <td>0</td>\n",
       "      <td>0</td>\n",
       "      <td>0</td>\n",
       "      <td>0</td>\n",
       "      <td>0</td>\n",
       "      <td>0</td>\n",
       "      <td>0</td>\n",
       "      <td>0</td>\n",
       "      <td>...</td>\n",
       "      <td>0</td>\n",
       "      <td>0</td>\n",
       "      <td>0</td>\n",
       "      <td>0</td>\n",
       "      <td>0</td>\n",
       "      <td>0</td>\n",
       "      <td>0</td>\n",
       "      <td>0</td>\n",
       "      <td>0</td>\n",
       "      <td>0</td>\n",
       "    </tr>\n",
       "    <tr>\n",
       "      <th>1</th>\n",
       "      <td>0</td>\n",
       "      <td>0</td>\n",
       "      <td>0</td>\n",
       "      <td>0</td>\n",
       "      <td>0</td>\n",
       "      <td>0</td>\n",
       "      <td>0</td>\n",
       "      <td>0</td>\n",
       "      <td>0</td>\n",
       "      <td>0</td>\n",
       "      <td>...</td>\n",
       "      <td>0</td>\n",
       "      <td>0</td>\n",
       "      <td>0</td>\n",
       "      <td>0</td>\n",
       "      <td>0</td>\n",
       "      <td>0</td>\n",
       "      <td>0</td>\n",
       "      <td>0</td>\n",
       "      <td>0</td>\n",
       "      <td>0</td>\n",
       "    </tr>\n",
       "    <tr>\n",
       "      <th>2</th>\n",
       "      <td>4</td>\n",
       "      <td>0</td>\n",
       "      <td>0</td>\n",
       "      <td>0</td>\n",
       "      <td>0</td>\n",
       "      <td>0</td>\n",
       "      <td>0</td>\n",
       "      <td>0</td>\n",
       "      <td>0</td>\n",
       "      <td>0</td>\n",
       "      <td>...</td>\n",
       "      <td>0</td>\n",
       "      <td>0</td>\n",
       "      <td>0</td>\n",
       "      <td>0</td>\n",
       "      <td>0</td>\n",
       "      <td>0</td>\n",
       "      <td>0</td>\n",
       "      <td>0</td>\n",
       "      <td>0</td>\n",
       "      <td>0</td>\n",
       "    </tr>\n",
       "    <tr>\n",
       "      <th>3</th>\n",
       "      <td>1</td>\n",
       "      <td>0</td>\n",
       "      <td>0</td>\n",
       "      <td>0</td>\n",
       "      <td>0</td>\n",
       "      <td>0</td>\n",
       "      <td>0</td>\n",
       "      <td>0</td>\n",
       "      <td>0</td>\n",
       "      <td>0</td>\n",
       "      <td>...</td>\n",
       "      <td>0</td>\n",
       "      <td>0</td>\n",
       "      <td>0</td>\n",
       "      <td>0</td>\n",
       "      <td>0</td>\n",
       "      <td>0</td>\n",
       "      <td>0</td>\n",
       "      <td>0</td>\n",
       "      <td>0</td>\n",
       "      <td>0</td>\n",
       "    </tr>\n",
       "    <tr>\n",
       "      <th>4</th>\n",
       "      <td>9</td>\n",
       "      <td>0</td>\n",
       "      <td>0</td>\n",
       "      <td>0</td>\n",
       "      <td>0</td>\n",
       "      <td>0</td>\n",
       "      <td>0</td>\n",
       "      <td>0</td>\n",
       "      <td>0</td>\n",
       "      <td>0</td>\n",
       "      <td>...</td>\n",
       "      <td>0</td>\n",
       "      <td>0</td>\n",
       "      <td>0</td>\n",
       "      <td>0</td>\n",
       "      <td>0</td>\n",
       "      <td>0</td>\n",
       "      <td>0</td>\n",
       "      <td>0</td>\n",
       "      <td>0</td>\n",
       "      <td>0</td>\n",
       "    </tr>\n",
       "  </tbody>\n",
       "</table>\n",
       "<p>5 rows × 785 columns</p>\n",
       "</div>"
      ],
      "text/plain": [
       "   label  1x1  1x2  1x3  1x4  1x5  1x6  1x7  1x8  1x9  ...    28x19  28x20  \\\n",
       "0      5    0    0    0    0    0    0    0    0    0  ...        0      0   \n",
       "1      0    0    0    0    0    0    0    0    0    0  ...        0      0   \n",
       "2      4    0    0    0    0    0    0    0    0    0  ...        0      0   \n",
       "3      1    0    0    0    0    0    0    0    0    0  ...        0      0   \n",
       "4      9    0    0    0    0    0    0    0    0    0  ...        0      0   \n",
       "\n",
       "   28x21  28x22  28x23  28x24  28x25  28x26  28x27  28x28  \n",
       "0      0      0      0      0      0      0      0      0  \n",
       "1      0      0      0      0      0      0      0      0  \n",
       "2      0      0      0      0      0      0      0      0  \n",
       "3      0      0      0      0      0      0      0      0  \n",
       "4      0      0      0      0      0      0      0      0  \n",
       "\n",
       "[5 rows x 785 columns]"
      ]
     },
     "execution_count": 2,
     "metadata": {},
     "output_type": "execute_result"
    }
   ],
   "source": [
    "train_set_name = os.path.join(os.getcwd(), 'data/mnist_train.csv')\n",
    "test_set_name = os.path.join(os.getcwd(), 'data/mnist_test.csv')\n",
    "df_train = pd.read_csv(train_set_name, engine='python')\n",
    "df_test = pd.read_csv(test_set_name, engine='python')\n",
    "df_train.head()"
   ]
  },
  {
   "cell_type": "markdown",
   "metadata": {},
   "source": [
    "Before we start implementing the neural network it's a good idea to visualize the dataset. The dataframe contains 785 columns: in the first column there is a label of written number and in the other columns there are values in a range from 0 to 255 indicating the brightness of each pixel. To reproduce the written numbers we will define the function that reshapes 1-dimensional array of pixels into 2-dimensional array (28x28) which will be displayed later using binary colormap."
   ]
  },
  {
   "cell_type": "code",
   "execution_count": 3,
   "metadata": {},
   "outputs": [],
   "source": [
    "def show_number(dataframe, index):\n",
    "    label = dataframe['label'][index]\n",
    "    pixels = np.array(dataframe.iloc[index, 1:])\n",
    "    pixels = pixels.reshape((28, 28))\n",
    "    \n",
    "    plt.imshow(pixels, cmap='binary')\n",
    "    plt.title(label)\n",
    "    plt.tick_params(axis='both', which='both', bottom=False, left=False, labelbottom=False, labelleft=False)"
   ]
  },
  {
   "cell_type": "markdown",
   "metadata": {},
   "source": [
    "Now we can visualize some numbers with the usage of defined function."
   ]
  },
  {
   "cell_type": "code",
   "execution_count": 4,
   "metadata": {},
   "outputs": [
    {
     "data": {
      "image/png": "[encoded data removed]",
      "text/plain": [
       "<Figure size 432x288 with 10 Axes>"
      ]
     },
     "metadata": {},
     "output_type": "display_data"
    }
   ],
   "source": [
    "for i in range(1, 11):\n",
    "    plt.subplot(2, 5, i)\n",
    "    show_number(df_train, i-1)"
   ]
  },
  {
   "cell_type": "markdown",
   "metadata": {},
   "source": [
    "We can also see the frequency of occurance of each number in our dataset. To do so we will plot the histogram of the column with number labels."
   ]
  },
  {
   "cell_type": "code",
   "execution_count": 5,
   "metadata": {},
   "outputs": [
    {
     "data": {
      "image/png": "[encoded data removed]",
      "text/plain": [
       "<Figure size 432x288 with 1 Axes>"
      ]
     },
     "metadata": {
      "needs_background": "light"
     },
     "output_type": "display_data"
    }
   ],
   "source": [
    "ax = df_train['label'].hist(bins=np.arange(11) - 0.5, grid=False, rwidth=0.9)\n",
    "ax.xaxis.set_ticks(np.arange(0, 10, 1))\n",
    "plt.show(ax)"
   ]
  },
  {
   "cell_type": "markdown",
   "metadata": {},
   "source": [
    "As we can see the distribution of the numbers is quite uniform. Every number appears in the dataset about 4000 times."
   ]
  },
  {
   "cell_type": "markdown",
   "metadata": {},
   "source": [
    "Now we will split the dataset into training set and validation set which will be used later to optimize hyperparameters."
   ]
  },
  {
   "cell_type": "code",
   "execution_count": 6,
   "metadata": {},
   "outputs": [],
   "source": [
    "from sklearn.model_selection import train_test_split\n",
    "from sklearn.preprocessing import OneHotEncoder\n",
    "\n",
    "X = np.array(df_train.iloc[:, 1:] / 255.0)\n",
    "y = np.array(df_train['label']).reshape(-1, 1)\n",
    "\n",
    "enc = OneHotEncoder()\n",
    "y = enc.fit_transform(y).toarray()\n",
    "\n",
    "X_train, X_validation, y_train, y_validation = train_test_split(X, y, test_size=0.1)\n",
    "training_data = list(zip(X_train, y_train))\n",
    "validation_data = list(zip(X_validation, y_validation))"
   ]
  },
  {
   "cell_type": "code",
   "execution_count": 7,
   "metadata": {},
   "outputs": [],
   "source": [
    "def sigmoid(x):\n",
    "    return 1 / (1 + np.exp(-x))\n",
    "\n",
    "def sigmoid_deriv_activ(x):\n",
    "    return x * (1 - x)"
   ]
  },
  {
   "cell_type": "code",
   "execution_count": 8,
   "metadata": {},
   "outputs": [],
   "source": [
    "def initialize_weights(neurons):\n",
    "    weights = []\n",
    "    layers = len(neurons)\n",
    "    for layer in range(1, layers):\n",
    "        w = np.random.randn(neurons[layer], neurons[layer-1]) * np.sqrt(2 / (neurons[layer] + neurons[layer-1]))\n",
    "        weights.append(w)\n",
    "    return weights\n",
    "\n",
    "def initialize_biases(neurons):\n",
    "    biases = []\n",
    "    layers = len(neurons)\n",
    "    for layer in range(1, layers):\n",
    "        b = np.random.randn(neurons[layer], 1) * np.sqrt(2 / (neurons[layer] + neurons[layer-1]))\n",
    "        biases.append(b)\n",
    "    return biases"
   ]
  },
  {
   "cell_type": "code",
   "execution_count": 9,
   "metadata": {},
   "outputs": [
    {
     "name": "stdout",
     "output_type": "stream",
     "text": [
      "(10, 1)\n",
      "(10, 100)\n",
      "(10, 1)\n",
      "(10,)\n"
     ]
    }
   ],
   "source": [
    "def feed_forward(inputs, weights, biases):\n",
    "    activations = [inputs.reshape(-1, 1)]\n",
    "    for i in range(len(weights)):\n",
    "        activation = sigmoid(np.dot(weights[i], inputs.reshape(-1, 1)) + biases[i])\n",
    "        activations.append(activation)\n",
    "        inputs = activation\n",
    "    return activations\n",
    "\n",
    "neural_network = [784, 100, 10]\n",
    "weights = initialize_weights(neural_network)\n",
    "biases = initialize_biases(neural_network)\n",
    "act = feed_forward(X_train[0], weights, biases)\n",
    "print(np.shape(act[2]))\n",
    "print(np.shape(weights[1]))\n",
    "print(np.shape(biases[1]))\n",
    "print(np.shape(y_train[0]))"
   ]
  },
  {
   "cell_type": "code",
   "execution_count": 10,
   "metadata": {},
   "outputs": [
    {
     "name": "stdout",
     "output_type": "stream",
     "text": [
      "(10, 100)\n",
      "(10, 1)\n"
     ]
    }
   ],
   "source": [
    "def backpropagation(outputs, activations, weights):\n",
    "    error = (activations[-1] - outputs)\n",
    "    delta = error * sigmoid_deriv_activ(activations[-1])\n",
    "    weight_gradient = [np.dot(delta, activations[-2].T)]\n",
    "    bias_gradient = [delta]\n",
    "    \n",
    "    for i in range(len(activations)-2, 0, -1):\n",
    "        delta = np.dot(weights[i].T, delta) * sigmoid_deriv_activ(activations[i])\n",
    "        weight_gradient.insert(0, delta * activations[i-1].T)\n",
    "        bias_gradient.insert(0, delta)\n",
    "        \n",
    "    return weight_gradient, bias_gradient\n",
    "\n",
    "wn, bn = backpropagation(y_train[0].reshape(-1, 1), act, weights)\n",
    "print(np.shape(wn[1]))\n",
    "print(np.shape(bn[1]))"
   ]
  },
  {
   "cell_type": "code",
   "execution_count": 11,
   "metadata": {},
   "outputs": [],
   "source": [
    "def validation_accuracy(validation_data, weights, biases):\n",
    "    true_predictions = 0\n",
    "    for x, y in validation_data:\n",
    "        prediction = np.argmax(feed_forward(x, weights, biases)[-1])\n",
    "        label = np.argmax(y)\n",
    "        \n",
    "        if prediction == label:\n",
    "            true_predictions += 1\n",
    "    \n",
    "    return true_predictions / len(validation_data)"
   ]
  },
  {
   "cell_type": "code",
   "execution_count": 12,
   "metadata": {
    "scrolled": false
   },
   "outputs": [
    {
     "name": "stdout",
     "output_type": "stream",
     "text": [
      "Accuracy on training dataset: 0.6981111111111111\n",
      "Epoch 1 completed!\n",
      "Accuracy on training dataset: 0.8140925925925926\n",
      "Epoch 2 completed!\n",
      "Accuracy on training dataset: 0.8523333333333334\n",
      "Epoch 3 completed!\n",
      "Accuracy on training dataset: 0.8712592592592593\n",
      "Epoch 4 completed!\n",
      "Accuracy on training dataset: 0.878962962962963\n",
      "Epoch 5 completed!\n",
      "Accuracy on training dataset: 0.8843518518518518\n",
      "Epoch 6 completed!\n",
      "Accuracy on training dataset: 0.8879074074074074\n",
      "Epoch 7 completed!\n",
      "Accuracy on training dataset: 0.8922037037037037\n",
      "Epoch 8 completed!\n",
      "Accuracy on training dataset: 0.8948518518518519\n",
      "Epoch 9 completed!\n",
      "Accuracy on training dataset: 0.8977222222222222\n",
      "Epoch 10 completed!\n",
      "Accuracy on training dataset: 0.8992962962962963\n",
      "Epoch 11 completed!\n",
      "Accuracy on training dataset: 0.9017407407407407\n",
      "Epoch 12 completed!\n",
      "Accuracy on training dataset: 0.9034629629629629\n",
      "Epoch 13 completed!\n",
      "Accuracy on training dataset: 0.9049444444444444\n",
      "Epoch 14 completed!\n",
      "Accuracy on training dataset: 0.9063888888888889\n",
      "Epoch 15 completed!\n",
      "Accuracy on training dataset: 0.9077592592592593\n",
      "Epoch 16 completed!\n",
      "Accuracy on training dataset: 0.9091666666666667\n",
      "Epoch 17 completed!\n",
      "Accuracy on training dataset: 0.9103518518518519\n",
      "Epoch 18 completed!\n",
      "Accuracy on training dataset: 0.9113333333333333\n",
      "Epoch 19 completed!\n",
      "Accuracy on training dataset: 0.9123518518518519\n",
      "Epoch 20 completed!\n",
      "Accuracy on training dataset: 0.9131481481481482\n",
      "Epoch 21 completed!\n",
      "Accuracy on training dataset: 0.9143888888888889\n",
      "Epoch 22 completed!\n",
      "Accuracy on training dataset: 0.9150925925925926\n",
      "Epoch 23 completed!\n",
      "Accuracy on training dataset: 0.9161851851851852\n",
      "Epoch 24 completed!\n",
      "Accuracy on training dataset: 0.9164814814814815\n",
      "Epoch 25 completed!\n",
      "Accuracy on training dataset: 0.9171111111111111\n",
      "Epoch 26 completed!\n",
      "Accuracy on training dataset: 0.9183333333333333\n",
      "Epoch 27 completed!\n",
      "Accuracy on training dataset: 0.9191666666666667\n",
      "Epoch 28 completed!\n",
      "Accuracy on training dataset: 0.9198518518518518\n",
      "Epoch 29 completed!\n",
      "Accuracy on training dataset: 0.9207222222222222\n",
      "Epoch 30 completed!\n",
      "Accuracy on validation dataset: 0.9161666666666667\n"
     ]
    },
    {
     "data": {
      "image/png": "[encoded data removed]",
      "text/plain": [
       "<Figure size 432x288 with 1 Axes>"
      ]
     },
     "metadata": {
      "needs_background": "light"
     },
     "output_type": "display_data"
    }
   ],
   "source": [
    "def training(training_data, weights, biases, epochs=30, mb_number=10, learning_rate=7.5, regularization=0.001, validation=False, validation_data=None):\n",
    "    plt.figure()\n",
    "    for epoch in range(epochs):\n",
    "        random.shuffle(training_data)\n",
    "    \n",
    "        mb_size = len(training_data) // mb_number\n",
    "        mini_batches = [training_data[i*mb_size:(i+1)*mb_size] for i in range(mb_number)]\n",
    "    \n",
    "        for mini_batch in mini_batches:\n",
    "            for x, y in mini_batch:\n",
    "                activations = feed_forward(x, weights, biases)\n",
    "                w_gradient, b_gradient = backpropagation(y.reshape(-1, 1), activations, weights)\n",
    "            \n",
    "                rescale_factor = 1 - learning_rate * regularization / len(training_data)\n",
    "                weights = [rescale_factor * w - learning_rate / len(mini_batch) * wn for w, wn in zip(weights, w_gradient)]\n",
    "                biases = [b - learning_rate / len(mini_batch) * bn for b, bn in zip(biases, b_gradient)]\n",
    "                \n",
    "        if validation:\n",
    "            accuracy = validation_accuracy(training_data, weights, biases)\n",
    "            plt.plot(epoch + 1, accuracy, 'bo')\n",
    "            print('Accuracy on training dataset: {}'.format(accuracy))\n",
    "                \n",
    "        print('Epoch {} completed!'.format(epoch + 1))\n",
    "        \n",
    "    print('Accuracy on validation dataset: {}'.format(validation_accuracy(validation_data, weights, biases)))\n",
    "    plt.show()\n",
    "    \n",
    "    return weights, biases\n",
    "\n",
    "final_weights, final_biases = training(training_data, weights, biases, validation=True, validation_data=validation_data)"
   ]
  },
  {
   "cell_type": "code",
   "execution_count": 14,
   "metadata": {},
   "outputs": [
    {
     "data": {
      "text/plain": [
       "0.9202666666666667"
      ]
     },
     "execution_count": 14,
     "metadata": {},
     "output_type": "execute_result"
    }
   ],
   "source": [
    "X_test = np.array(df_train.iloc[:, 1:] / 255.0)\n",
    "y_test = np.array(df_train['label']).reshape(-1, 1)\n",
    "\n",
    "y_test = enc.fit_transform(y_test).toarray()\n",
    "\n",
    "test_data = list(zip(X_test, y_test))\n",
    "\n",
    "validation_accuracy(test_data, final_weights, final_biases)"
   ]
  }
 ],
 "metadata": {
  "kernelspec": {
   "display_name": "Python 3",
   "language": "python",
   "name": "python3"
  },
  "language_info": {
   "codemirror_mode": {
    "name": "ipython",
    "version": 3
   },
   "file_extension": ".py",
   "mimetype": "text/x-python",
   "name": "python",
   "nbconvert_exporter": "python",
   "pygments_lexer": "ipython3",
   "version": "3.7.0"
  }
 },
 "nbformat": 4,
 "nbformat_minor": 2
}
